{
 "cells": [
  {
   "cell_type": "code",
   "execution_count": 1,
   "metadata": {},
   "outputs": [
    {
     "name": "stdout",
     "output_type": "stream",
     "text": [
      "Current Working Directory: /Users/david.amat/Documents/david/pdf-search-llm-rag\n"
     ]
    }
   ],
   "source": [
    "import os\n",
    "import glob\n",
    "\n",
    "# Get the absolute path of the current project directory\n",
    "project_dir = os.path.abspath('.')\n",
    "\n",
    "# Get the parent of the parent directory\n",
    "WORK_DIR = os.path.abspath(os.path.join(project_dir, '../../'))\n",
    "\n",
    "# Change the working directory to the parent of the parent directory\n",
    "os.chdir(WORK_DIR)\n",
    "\n",
    "# Verify the change by printing the current working directory\n",
    "print(\"Current Working Directory:\", os.getcwd())"
   ]
  },
  {
   "cell_type": "markdown",
   "metadata": {},
   "source": [
    "# process_pdf_file"
   ]
  },
  {
   "cell_type": "code",
   "execution_count": 2,
   "metadata": {},
   "outputs": [],
   "source": [
    "import PyPDF2\n",
    "import pandas as pd\n",
    "from typing import List"
   ]
  },
  {
   "cell_type": "code",
   "execution_count": 3,
   "metadata": {},
   "outputs": [],
   "source": [
    "file_title = \"attention_is_all_you_need\"\n",
    "pdf_path = f\"data/{file_title}.pdf\"\n",
    "pdf_reader = PyPDF2.PdfReader(pdf_path)"
   ]
  },
  {
   "cell_type": "code",
   "execution_count": 4,
   "metadata": {},
   "outputs": [
    {
     "name": "stdout",
     "output_type": "stream",
     "text": [
      "Amount of pages: 15\n"
     ]
    }
   ],
   "source": [
    "pages_amount = len(pdf_reader.pages)\n",
    "print(f'Amount of pages: {pages_amount}')"
   ]
  },
  {
   "cell_type": "code",
   "execution_count": 5,
   "metadata": {},
   "outputs": [],
   "source": [
    "document_text = []"
   ]
  },
  {
   "cell_type": "code",
   "execution_count": 6,
   "metadata": {},
   "outputs": [],
   "source": [
    "for i, page in enumerate(pdf_reader.pages):\n",
    "    document_text.append([file_title, i+1, page.extract_text()])"
   ]
  },
  {
   "cell_type": "code",
   "execution_count": 7,
   "metadata": {},
   "outputs": [],
   "source": [
    "# print(document_text[1][2])"
   ]
  },
  {
   "cell_type": "code",
   "execution_count": 8,
   "metadata": {},
   "outputs": [],
   "source": [
    "columns = [\"file_name\", \"page_number\", \"text\"]\n",
    "df_text = pd.DataFrame(document_text, columns=columns)"
   ]
  },
  {
   "cell_type": "code",
   "execution_count": 9,
   "metadata": {},
   "outputs": [],
   "source": [
    "page_num = 1\n",
    "start_text = document_text[page_num][2][:25]\n",
    "end_text = document_text[page_num][2][-25:]"
   ]
  },
  {
   "cell_type": "code",
   "execution_count": 10,
   "metadata": {},
   "outputs": [
    {
     "data": {
      "text/plain": [
       "'1 Introduction\\nRecurrent neural networks, long short-term memory [ 13] and gated recurrent [ 7] neural networks\\nin particular, have been firmly established as state of the art approaches in sequence modeling and\\ntransduction problems such as language modeling and machine translation [ 35,2,5]. Numerous\\nefforts have since continued to push the boundaries of recurrent language models and encoder-decoder\\narchitectures [38, 24, 15].\\nRecurrent models typically factor computation along the symbol positions of the input and output\\nsequences. Aligning the positions to steps in computation time, they generate a sequence of hidden\\nstates ht, as a function of the previous hidden state ht−1and the input for position t. This inherently\\nsequential nature precludes parallelization within training examples, which becomes critical at longer\\nsequence lengths, as memory constraints limit batching across examples. Recent work has achieved\\nsignificant improvements in computational efficiency through factorization tricks [ 21] and conditional\\ncomputation [ 32], while also improving model performance in case of the latter. The fundamental\\nconstraint of sequential computation, however, remains.\\nAttention mechanisms have become an integral part of compelling sequence modeling and transduc-\\ntion models in various tasks, allowing modeling of dependencies without regard to their distance in\\nthe input or output sequences [ 2,19]. In all but a few cases [ 27], however, such attention mechanisms\\nare used in conjunction with a recurrent network.\\nIn this work we propose the Transformer, a model architecture eschewing recurrence and instead\\nrelying entirely on an attention mechanism to draw global dependencies between input and output.\\nThe Transformer allows for significantly more parallelization and can reach a new state of the art in\\ntranslation quality after being trained for as little as twelve hours on eight P100 GPUs.\\n2 Background\\nThe goal of reducing sequential computation also forms the foundation of the Extended Neural GPU\\n[16], ByteNet [ 18] and ConvS2S [ 9], all of which use convolutional neural networks as basic building\\nblock, computing hidden representations in parallel for all input and output positions. In these models,\\nthe number of operations required to relate signals from two arbitrary input or output positions grows\\nin the distance between positions, linearly for ConvS2S and logarithmically for ByteNet. This makes\\nit more difficult to learn dependencies between distant positions [ 12]. In the Transformer this is\\nreduced to a constant number of operations, albeit at the cost of reduced effective resolution due\\nto averaging attention-weighted positions, an effect we counteract with Multi-Head Attention as\\ndescribed in section 3.2.\\nSelf-attention, sometimes called intra-attention is an attention mechanism relating different positions\\nof a single sequence in order to compute a representation of the sequence. Self-attention has been\\nused successfully in a variety of tasks including reading comprehension, abstractive summarization,\\ntextual entailment and learning task-independent sentence representations [4, 27, 28, 22].\\nEnd-to-end memory networks are based on a recurrent attention mechanism instead of sequence-\\naligned recurrence and have been shown to perform well on simple-language question answering and\\nlanguage modeling tasks [34].\\nTo the best of our knowledge, however, the Transformer is the first transduction model relying\\nentirely on self-attention to compute representations of its input and output without using sequence-\\naligned RNNs or convolution. In the following sections, we will describe the Transformer, motivate\\nself-attention and discuss its advantages over models such as [17, 18] and [9].\\n3 Model Architecture\\nMost competitive neural sequence transduction models have an encoder-decoder structure [ 5,2,35].\\nHere, the encoder maps an input sequence of symbol representations (x1, ..., x n)to a sequence\\nof continuous representations z= (z1, ..., z n). Given z, the decoder then generates an output\\nsequence (y1, ..., y m)of symbols one element at a time. At each step the model is auto-regressive\\n[10], consuming the previously generated symbols as additional input when generating the next.\\n2'"
      ]
     },
     "execution_count": 10,
     "metadata": {},
     "output_type": "execute_result"
    }
   ],
   "source": [
    "document_text[page_num][2]"
   ]
  },
  {
   "cell_type": "code",
   "execution_count": 11,
   "metadata": {},
   "outputs": [
    {
     "data": {
      "text/plain": [
       "'1 Introduction\\nRecurrent '"
      ]
     },
     "execution_count": 11,
     "metadata": {},
     "output_type": "execute_result"
    }
   ],
   "source": [
    "start_text"
   ]
  },
  {
   "cell_type": "code",
   "execution_count": 12,
   "metadata": {},
   "outputs": [
    {
     "name": "stdout",
     "output_type": "stream",
     "text": [
      "1 Introduction\n",
      "Recurrent \n",
      "en generating the next.\n",
      "2\n"
     ]
    }
   ],
   "source": [
    "print(start_text)\n",
    "print(end_text)"
   ]
  },
  {
   "cell_type": "markdown",
   "metadata": {},
   "source": [
    "# process_text_data"
   ]
  },
  {
   "cell_type": "code",
   "execution_count": 13,
   "metadata": {},
   "outputs": [],
   "source": [
    "def split_page(document: str) -> List[str]:\n",
    "    return document.split('.\\n')"
   ]
  },
  {
   "cell_type": "code",
   "execution_count": 14,
   "metadata": {},
   "outputs": [],
   "source": [
    "def get_paragraphs(data: pd.DataFrame) -> pd.DataFrame:\n",
    "    # Explode the list to separate rows\n",
    "    data_text_exploded = data.explode('text')\n",
    "\n",
    "    # Add a 'paragraph' column indicating the index of the element in the list\n",
    "    data_text_exploded['paragraph'] = data_text_exploded.groupby(\n",
    "        ['file_name', 'page_number']\n",
    "    ).cumcount() + 1\n",
    "\n",
    "    return data_text_exploded"
   ]
  },
  {
   "cell_type": "code",
   "execution_count": 15,
   "metadata": {},
   "outputs": [],
   "source": [
    "df = df_text.copy()"
   ]
  },
  {
   "cell_type": "code",
   "execution_count": 16,
   "metadata": {},
   "outputs": [],
   "source": [
    "# Apply split_page function to split text into paragraphs\n",
    "df['text'] = df['text'].apply(split_page)"
   ]
  },
  {
   "cell_type": "code",
   "execution_count": 17,
   "metadata": {},
   "outputs": [
    {
     "name": "stdout",
     "output_type": "stream",
     "text": [
      "Page 0: 6 paragraphs\n",
      "Page 1: 12 paragraphs\n",
      "Page 2: 5 paragraphs\n",
      "Page 3: 7 paragraphs\n",
      "Page 4: 12 paragraphs\n",
      "Page 5: 8 paragraphs\n",
      "Page 6: 8 paragraphs\n",
      "Page 7: 9 paragraphs\n",
      "Page 8: 7 paragraphs\n",
      "Page 9: 13 paragraphs\n",
      "Page 10: 22 paragraphs\n",
      "Page 11: 18 paragraphs\n",
      "Page 12: 4 paragraphs\n",
      "Page 13: 6 paragraphs\n",
      "Page 14: 6 paragraphs\n"
     ]
    }
   ],
   "source": [
    "for page_num in range(len(df['text'])):\n",
    "    num_paragraphs = len(df['text'][page_num])\n",
    "    print(f\"Page {page_num}: {num_paragraphs} paragraphs\")"
   ]
  },
  {
   "cell_type": "code",
   "execution_count": 18,
   "metadata": {},
   "outputs": [],
   "source": [
    "data_text_exploded = df.explode('text')"
   ]
  },
  {
   "cell_type": "code",
   "execution_count": 19,
   "metadata": {},
   "outputs": [
    {
     "data": {
      "text/html": [
       "<div>\n",
       "<style scoped>\n",
       "    .dataframe tbody tr th:only-of-type {\n",
       "        vertical-align: middle;\n",
       "    }\n",
       "\n",
       "    .dataframe tbody tr th {\n",
       "        vertical-align: top;\n",
       "    }\n",
       "\n",
       "    .dataframe thead th {\n",
       "        text-align: right;\n",
       "    }\n",
       "</style>\n",
       "<table border=\"1\" class=\"dataframe\">\n",
       "  <thead>\n",
       "    <tr style=\"text-align: right;\">\n",
       "      <th></th>\n",
       "      <th>file_name</th>\n",
       "      <th>page_number</th>\n",
       "      <th>text</th>\n",
       "    </tr>\n",
       "  </thead>\n",
       "  <tbody>\n",
       "    <tr>\n",
       "      <th>0</th>\n",
       "      <td>attention_is_all_you_need</td>\n",
       "      <td>1</td>\n",
       "      <td>Provided proper attribution is provided, Googl...</td>\n",
       "    </tr>\n",
       "    <tr>\n",
       "      <th>0</th>\n",
       "      <td>attention_is_all_you_need</td>\n",
       "      <td>1</td>\n",
       "      <td>Attention Is All You Need\\nAshish Vaswani∗\\nGo...</td>\n",
       "    </tr>\n",
       "    <tr>\n",
       "      <th>0</th>\n",
       "      <td>attention_is_all_you_need</td>\n",
       "      <td>1</td>\n",
       "      <td>∗Equal contribution. Listing order is random. ...</td>\n",
       "    </tr>\n",
       "    <tr>\n",
       "      <th>0</th>\n",
       "      <td>attention_is_all_you_need</td>\n",
       "      <td>1</td>\n",
       "      <td>†Work performed while at Google Brain</td>\n",
       "    </tr>\n",
       "    <tr>\n",
       "      <th>0</th>\n",
       "      <td>attention_is_all_you_need</td>\n",
       "      <td>1</td>\n",
       "      <td>‡Work performed while at Google Research</td>\n",
       "    </tr>\n",
       "    <tr>\n",
       "      <th>...</th>\n",
       "      <td>...</td>\n",
       "      <td>...</td>\n",
       "      <td>...</td>\n",
       "    </tr>\n",
       "    <tr>\n",
       "      <th>14</th>\n",
       "      <td>attention_is_all_you_need</td>\n",
       "      <td>15</td>\n",
       "      <td>&lt;EOS&gt;\\n&lt;pad&gt;\\nThe\\nLaw\\nwill\\nnever\\nbe\\nperfe...</td>\n",
       "    </tr>\n",
       "    <tr>\n",
       "      <th>14</th>\n",
       "      <td>attention_is_all_you_need</td>\n",
       "      <td>15</td>\n",
       "      <td>&lt;EOS&gt;\\n&lt;pad&gt;\\nInput-Input Layer5\\nThe\\nLaw\\nwi...</td>\n",
       "    </tr>\n",
       "    <tr>\n",
       "      <th>14</th>\n",
       "      <td>attention_is_all_you_need</td>\n",
       "      <td>15</td>\n",
       "      <td>&lt;EOS&gt;\\n&lt;pad&gt;\\nThe\\nLaw\\nwill\\nnever\\nbe\\nperfe...</td>\n",
       "    </tr>\n",
       "    <tr>\n",
       "      <th>14</th>\n",
       "      <td>attention_is_all_you_need</td>\n",
       "      <td>15</td>\n",
       "      <td>&lt;EOS&gt;\\n&lt;pad&gt;Figure 5: Many of the attention he...</td>\n",
       "    </tr>\n",
       "    <tr>\n",
       "      <th>14</th>\n",
       "      <td>attention_is_all_you_need</td>\n",
       "      <td>15</td>\n",
       "      <td>15</td>\n",
       "    </tr>\n",
       "  </tbody>\n",
       "</table>\n",
       "<p>143 rows × 3 columns</p>\n",
       "</div>"
      ],
      "text/plain": [
       "                    file_name  page_number  \\\n",
       "0   attention_is_all_you_need            1   \n",
       "0   attention_is_all_you_need            1   \n",
       "0   attention_is_all_you_need            1   \n",
       "0   attention_is_all_you_need            1   \n",
       "0   attention_is_all_you_need            1   \n",
       "..                        ...          ...   \n",
       "14  attention_is_all_you_need           15   \n",
       "14  attention_is_all_you_need           15   \n",
       "14  attention_is_all_you_need           15   \n",
       "14  attention_is_all_you_need           15   \n",
       "14  attention_is_all_you_need           15   \n",
       "\n",
       "                                                 text  \n",
       "0   Provided proper attribution is provided, Googl...  \n",
       "0   Attention Is All You Need\\nAshish Vaswani∗\\nGo...  \n",
       "0   ∗Equal contribution. Listing order is random. ...  \n",
       "0               †Work performed while at Google Brain  \n",
       "0            ‡Work performed while at Google Research  \n",
       "..                                                ...  \n",
       "14  <EOS>\\n<pad>\\nThe\\nLaw\\nwill\\nnever\\nbe\\nperfe...  \n",
       "14  <EOS>\\n<pad>\\nInput-Input Layer5\\nThe\\nLaw\\nwi...  \n",
       "14  <EOS>\\n<pad>\\nThe\\nLaw\\nwill\\nnever\\nbe\\nperfe...  \n",
       "14  <EOS>\\n<pad>Figure 5: Many of the attention he...  \n",
       "14                                                 15  \n",
       "\n",
       "[143 rows x 3 columns]"
      ]
     },
     "execution_count": 19,
     "metadata": {},
     "output_type": "execute_result"
    }
   ],
   "source": [
    "data_text_exploded"
   ]
  },
  {
   "cell_type": "code",
   "execution_count": 20,
   "metadata": {},
   "outputs": [],
   "source": [
    "data_text_exploded['paragraph'] = data_text_exploded.groupby(\n",
    "    ['file_name', 'page_number']\n",
    ").cumcount() + 1"
   ]
  },
  {
   "cell_type": "code",
   "execution_count": 21,
   "metadata": {},
   "outputs": [
    {
     "data": {
      "text/html": [
       "<div>\n",
       "<style scoped>\n",
       "    .dataframe tbody tr th:only-of-type {\n",
       "        vertical-align: middle;\n",
       "    }\n",
       "\n",
       "    .dataframe tbody tr th {\n",
       "        vertical-align: top;\n",
       "    }\n",
       "\n",
       "    .dataframe thead th {\n",
       "        text-align: right;\n",
       "    }\n",
       "</style>\n",
       "<table border=\"1\" class=\"dataframe\">\n",
       "  <thead>\n",
       "    <tr style=\"text-align: right;\">\n",
       "      <th></th>\n",
       "      <th>file_name</th>\n",
       "      <th>page_number</th>\n",
       "      <th>text</th>\n",
       "      <th>paragraph</th>\n",
       "    </tr>\n",
       "  </thead>\n",
       "  <tbody>\n",
       "    <tr>\n",
       "      <th>0</th>\n",
       "      <td>attention_is_all_you_need</td>\n",
       "      <td>1</td>\n",
       "      <td>Provided proper attribution is provided, Googl...</td>\n",
       "      <td>1</td>\n",
       "    </tr>\n",
       "    <tr>\n",
       "      <th>0</th>\n",
       "      <td>attention_is_all_you_need</td>\n",
       "      <td>1</td>\n",
       "      <td>Attention Is All You Need\\nAshish Vaswani∗\\nGo...</td>\n",
       "      <td>2</td>\n",
       "    </tr>\n",
       "    <tr>\n",
       "      <th>0</th>\n",
       "      <td>attention_is_all_you_need</td>\n",
       "      <td>1</td>\n",
       "      <td>∗Equal contribution. Listing order is random. ...</td>\n",
       "      <td>3</td>\n",
       "    </tr>\n",
       "    <tr>\n",
       "      <th>0</th>\n",
       "      <td>attention_is_all_you_need</td>\n",
       "      <td>1</td>\n",
       "      <td>†Work performed while at Google Brain</td>\n",
       "      <td>4</td>\n",
       "    </tr>\n",
       "    <tr>\n",
       "      <th>0</th>\n",
       "      <td>attention_is_all_you_need</td>\n",
       "      <td>1</td>\n",
       "      <td>‡Work performed while at Google Research</td>\n",
       "      <td>5</td>\n",
       "    </tr>\n",
       "    <tr>\n",
       "      <th>...</th>\n",
       "      <td>...</td>\n",
       "      <td>...</td>\n",
       "      <td>...</td>\n",
       "      <td>...</td>\n",
       "    </tr>\n",
       "    <tr>\n",
       "      <th>14</th>\n",
       "      <td>attention_is_all_you_need</td>\n",
       "      <td>15</td>\n",
       "      <td>&lt;EOS&gt;\\n&lt;pad&gt;\\nThe\\nLaw\\nwill\\nnever\\nbe\\nperfe...</td>\n",
       "      <td>2</td>\n",
       "    </tr>\n",
       "    <tr>\n",
       "      <th>14</th>\n",
       "      <td>attention_is_all_you_need</td>\n",
       "      <td>15</td>\n",
       "      <td>&lt;EOS&gt;\\n&lt;pad&gt;\\nInput-Input Layer5\\nThe\\nLaw\\nwi...</td>\n",
       "      <td>3</td>\n",
       "    </tr>\n",
       "    <tr>\n",
       "      <th>14</th>\n",
       "      <td>attention_is_all_you_need</td>\n",
       "      <td>15</td>\n",
       "      <td>&lt;EOS&gt;\\n&lt;pad&gt;\\nThe\\nLaw\\nwill\\nnever\\nbe\\nperfe...</td>\n",
       "      <td>4</td>\n",
       "    </tr>\n",
       "    <tr>\n",
       "      <th>14</th>\n",
       "      <td>attention_is_all_you_need</td>\n",
       "      <td>15</td>\n",
       "      <td>&lt;EOS&gt;\\n&lt;pad&gt;Figure 5: Many of the attention he...</td>\n",
       "      <td>5</td>\n",
       "    </tr>\n",
       "    <tr>\n",
       "      <th>14</th>\n",
       "      <td>attention_is_all_you_need</td>\n",
       "      <td>15</td>\n",
       "      <td>15</td>\n",
       "      <td>6</td>\n",
       "    </tr>\n",
       "  </tbody>\n",
       "</table>\n",
       "<p>143 rows × 4 columns</p>\n",
       "</div>"
      ],
      "text/plain": [
       "                    file_name  page_number  \\\n",
       "0   attention_is_all_you_need            1   \n",
       "0   attention_is_all_you_need            1   \n",
       "0   attention_is_all_you_need            1   \n",
       "0   attention_is_all_you_need            1   \n",
       "0   attention_is_all_you_need            1   \n",
       "..                        ...          ...   \n",
       "14  attention_is_all_you_need           15   \n",
       "14  attention_is_all_you_need           15   \n",
       "14  attention_is_all_you_need           15   \n",
       "14  attention_is_all_you_need           15   \n",
       "14  attention_is_all_you_need           15   \n",
       "\n",
       "                                                 text  paragraph  \n",
       "0   Provided proper attribution is provided, Googl...          1  \n",
       "0   Attention Is All You Need\\nAshish Vaswani∗\\nGo...          2  \n",
       "0   ∗Equal contribution. Listing order is random. ...          3  \n",
       "0               †Work performed while at Google Brain          4  \n",
       "0            ‡Work performed while at Google Research          5  \n",
       "..                                                ...        ...  \n",
       "14  <EOS>\\n<pad>\\nThe\\nLaw\\nwill\\nnever\\nbe\\nperfe...          2  \n",
       "14  <EOS>\\n<pad>\\nInput-Input Layer5\\nThe\\nLaw\\nwi...          3  \n",
       "14  <EOS>\\n<pad>\\nThe\\nLaw\\nwill\\nnever\\nbe\\nperfe...          4  \n",
       "14  <EOS>\\n<pad>Figure 5: Many of the attention he...          5  \n",
       "14                                                 15          6  \n",
       "\n",
       "[143 rows x 4 columns]"
      ]
     },
     "execution_count": 21,
     "metadata": {},
     "output_type": "execute_result"
    }
   ],
   "source": [
    "data_text_exploded"
   ]
  },
  {
   "cell_type": "code",
   "execution_count": 22,
   "metadata": {},
   "outputs": [],
   "source": [
    "# Apply get_paragraphs function to explode the list and add paragraph numbers\n",
    "df = get_paragraphs(df)"
   ]
  },
  {
   "cell_type": "code",
   "execution_count": 23,
   "metadata": {},
   "outputs": [
    {
     "data": {
      "text/html": [
       "<div>\n",
       "<style scoped>\n",
       "    .dataframe tbody tr th:only-of-type {\n",
       "        vertical-align: middle;\n",
       "    }\n",
       "\n",
       "    .dataframe tbody tr th {\n",
       "        vertical-align: top;\n",
       "    }\n",
       "\n",
       "    .dataframe thead th {\n",
       "        text-align: right;\n",
       "    }\n",
       "</style>\n",
       "<table border=\"1\" class=\"dataframe\">\n",
       "  <thead>\n",
       "    <tr style=\"text-align: right;\">\n",
       "      <th></th>\n",
       "      <th>file_name</th>\n",
       "      <th>page_number</th>\n",
       "      <th>text</th>\n",
       "      <th>paragraph</th>\n",
       "    </tr>\n",
       "  </thead>\n",
       "  <tbody>\n",
       "    <tr>\n",
       "      <th>0</th>\n",
       "      <td>attention_is_all_you_need</td>\n",
       "      <td>1</td>\n",
       "      <td>Provided proper attribution is provided, Googl...</td>\n",
       "      <td>1</td>\n",
       "    </tr>\n",
       "    <tr>\n",
       "      <th>0</th>\n",
       "      <td>attention_is_all_you_need</td>\n",
       "      <td>1</td>\n",
       "      <td>Attention Is All You Need\\nAshish Vaswani∗\\nGo...</td>\n",
       "      <td>2</td>\n",
       "    </tr>\n",
       "    <tr>\n",
       "      <th>0</th>\n",
       "      <td>attention_is_all_you_need</td>\n",
       "      <td>1</td>\n",
       "      <td>∗Equal contribution. Listing order is random. ...</td>\n",
       "      <td>3</td>\n",
       "    </tr>\n",
       "    <tr>\n",
       "      <th>0</th>\n",
       "      <td>attention_is_all_you_need</td>\n",
       "      <td>1</td>\n",
       "      <td>†Work performed while at Google Brain</td>\n",
       "      <td>4</td>\n",
       "    </tr>\n",
       "    <tr>\n",
       "      <th>0</th>\n",
       "      <td>attention_is_all_you_need</td>\n",
       "      <td>1</td>\n",
       "      <td>‡Work performed while at Google Research</td>\n",
       "      <td>5</td>\n",
       "    </tr>\n",
       "    <tr>\n",
       "      <th>...</th>\n",
       "      <td>...</td>\n",
       "      <td>...</td>\n",
       "      <td>...</td>\n",
       "      <td>...</td>\n",
       "    </tr>\n",
       "    <tr>\n",
       "      <th>14</th>\n",
       "      <td>attention_is_all_you_need</td>\n",
       "      <td>15</td>\n",
       "      <td>&lt;EOS&gt;\\n&lt;pad&gt;\\nThe\\nLaw\\nwill\\nnever\\nbe\\nperfe...</td>\n",
       "      <td>2</td>\n",
       "    </tr>\n",
       "    <tr>\n",
       "      <th>14</th>\n",
       "      <td>attention_is_all_you_need</td>\n",
       "      <td>15</td>\n",
       "      <td>&lt;EOS&gt;\\n&lt;pad&gt;\\nInput-Input Layer5\\nThe\\nLaw\\nwi...</td>\n",
       "      <td>3</td>\n",
       "    </tr>\n",
       "    <tr>\n",
       "      <th>14</th>\n",
       "      <td>attention_is_all_you_need</td>\n",
       "      <td>15</td>\n",
       "      <td>&lt;EOS&gt;\\n&lt;pad&gt;\\nThe\\nLaw\\nwill\\nnever\\nbe\\nperfe...</td>\n",
       "      <td>4</td>\n",
       "    </tr>\n",
       "    <tr>\n",
       "      <th>14</th>\n",
       "      <td>attention_is_all_you_need</td>\n",
       "      <td>15</td>\n",
       "      <td>&lt;EOS&gt;\\n&lt;pad&gt;Figure 5: Many of the attention he...</td>\n",
       "      <td>5</td>\n",
       "    </tr>\n",
       "    <tr>\n",
       "      <th>14</th>\n",
       "      <td>attention_is_all_you_need</td>\n",
       "      <td>15</td>\n",
       "      <td>15</td>\n",
       "      <td>6</td>\n",
       "    </tr>\n",
       "  </tbody>\n",
       "</table>\n",
       "<p>143 rows × 4 columns</p>\n",
       "</div>"
      ],
      "text/plain": [
       "                    file_name  page_number  \\\n",
       "0   attention_is_all_you_need            1   \n",
       "0   attention_is_all_you_need            1   \n",
       "0   attention_is_all_you_need            1   \n",
       "0   attention_is_all_you_need            1   \n",
       "0   attention_is_all_you_need            1   \n",
       "..                        ...          ...   \n",
       "14  attention_is_all_you_need           15   \n",
       "14  attention_is_all_you_need           15   \n",
       "14  attention_is_all_you_need           15   \n",
       "14  attention_is_all_you_need           15   \n",
       "14  attention_is_all_you_need           15   \n",
       "\n",
       "                                                 text  paragraph  \n",
       "0   Provided proper attribution is provided, Googl...          1  \n",
       "0   Attention Is All You Need\\nAshish Vaswani∗\\nGo...          2  \n",
       "0   ∗Equal contribution. Listing order is random. ...          3  \n",
       "0               †Work performed while at Google Brain          4  \n",
       "0            ‡Work performed while at Google Research          5  \n",
       "..                                                ...        ...  \n",
       "14  <EOS>\\n<pad>\\nThe\\nLaw\\nwill\\nnever\\nbe\\nperfe...          2  \n",
       "14  <EOS>\\n<pad>\\nInput-Input Layer5\\nThe\\nLaw\\nwi...          3  \n",
       "14  <EOS>\\n<pad>\\nThe\\nLaw\\nwill\\nnever\\nbe\\nperfe...          4  \n",
       "14  <EOS>\\n<pad>Figure 5: Many of the attention he...          5  \n",
       "14                                                 15          6  \n",
       "\n",
       "[143 rows x 4 columns]"
      ]
     },
     "execution_count": 23,
     "metadata": {},
     "output_type": "execute_result"
    }
   ],
   "source": [
    "df"
   ]
  },
  {
   "cell_type": "code",
   "execution_count": 24,
   "metadata": {},
   "outputs": [],
   "source": [
    "# Apply strip to remove leading and trailing spaces\n",
    "df['text'] = df['text'].str.strip()"
   ]
  },
  {
   "cell_type": "code",
   "execution_count": 25,
   "metadata": {},
   "outputs": [],
   "source": [
    "# Reset index\n",
    "df.reset_index(drop=True, inplace=True)"
   ]
  },
  {
   "cell_type": "code",
   "execution_count": 26,
   "metadata": {},
   "outputs": [],
   "source": [
    "df = df[['file_name', 'page_number', 'paragraph', 'text']]"
   ]
  },
  {
   "cell_type": "markdown",
   "metadata": {},
   "source": [
    "## Function"
   ]
  },
  {
   "cell_type": "code",
   "execution_count": 27,
   "metadata": {},
   "outputs": [],
   "source": [
    "def process_text_data(df: pd.DataFrame) -> pd.DataFrame:\n",
    "    # Apply split_page function to split text into paragraphs\n",
    "    df['text'] = df['text'].apply(split_page)\n",
    "\n",
    "    # Apply get_paragraphs function to explode the list and add paragraph numbers\n",
    "    df = get_paragraphs(df)\n",
    "\n",
    "    # Apply strip to remove leading and trailing spaces\n",
    "    df['text'] = df['text'].str.strip()\n",
    "\n",
    "    # Reset index\n",
    "    df.reset_index(drop=True, inplace=True)\n",
    "\n",
    "    # Reorder columns for better readability\n",
    "    df = df[['file_name', 'page_number', 'paragraph', 'text']]\n",
    "\n",
    "    return df"
   ]
  },
  {
   "cell_type": "code",
   "execution_count": 28,
   "metadata": {},
   "outputs": [],
   "source": [
    "df = df_text.copy()\n",
    "df_filtered = process_text_data(df)"
   ]
  },
  {
   "cell_type": "code",
   "execution_count": 29,
   "metadata": {},
   "outputs": [
    {
     "data": {
      "text/html": [
       "<div>\n",
       "<style scoped>\n",
       "    .dataframe tbody tr th:only-of-type {\n",
       "        vertical-align: middle;\n",
       "    }\n",
       "\n",
       "    .dataframe tbody tr th {\n",
       "        vertical-align: top;\n",
       "    }\n",
       "\n",
       "    .dataframe thead th {\n",
       "        text-align: right;\n",
       "    }\n",
       "</style>\n",
       "<table border=\"1\" class=\"dataframe\">\n",
       "  <thead>\n",
       "    <tr style=\"text-align: right;\">\n",
       "      <th></th>\n",
       "      <th>file_name</th>\n",
       "      <th>page_number</th>\n",
       "      <th>paragraph</th>\n",
       "      <th>text</th>\n",
       "    </tr>\n",
       "  </thead>\n",
       "  <tbody>\n",
       "    <tr>\n",
       "      <th>0</th>\n",
       "      <td>attention_is_all_you_need</td>\n",
       "      <td>1</td>\n",
       "      <td>1</td>\n",
       "      <td>Provided proper attribution is provided, Googl...</td>\n",
       "    </tr>\n",
       "    <tr>\n",
       "      <th>1</th>\n",
       "      <td>attention_is_all_you_need</td>\n",
       "      <td>1</td>\n",
       "      <td>2</td>\n",
       "      <td>Attention Is All You Need\\nAshish Vaswani∗\\nGo...</td>\n",
       "    </tr>\n",
       "    <tr>\n",
       "      <th>2</th>\n",
       "      <td>attention_is_all_you_need</td>\n",
       "      <td>1</td>\n",
       "      <td>3</td>\n",
       "      <td>∗Equal contribution. Listing order is random. ...</td>\n",
       "    </tr>\n",
       "    <tr>\n",
       "      <th>3</th>\n",
       "      <td>attention_is_all_you_need</td>\n",
       "      <td>1</td>\n",
       "      <td>4</td>\n",
       "      <td>†Work performed while at Google Brain</td>\n",
       "    </tr>\n",
       "    <tr>\n",
       "      <th>4</th>\n",
       "      <td>attention_is_all_you_need</td>\n",
       "      <td>1</td>\n",
       "      <td>5</td>\n",
       "      <td>‡Work performed while at Google Research</td>\n",
       "    </tr>\n",
       "    <tr>\n",
       "      <th>...</th>\n",
       "      <td>...</td>\n",
       "      <td>...</td>\n",
       "      <td>...</td>\n",
       "      <td>...</td>\n",
       "    </tr>\n",
       "    <tr>\n",
       "      <th>138</th>\n",
       "      <td>attention_is_all_you_need</td>\n",
       "      <td>15</td>\n",
       "      <td>2</td>\n",
       "      <td>&lt;EOS&gt;\\n&lt;pad&gt;\\nThe\\nLaw\\nwill\\nnever\\nbe\\nperfe...</td>\n",
       "    </tr>\n",
       "    <tr>\n",
       "      <th>139</th>\n",
       "      <td>attention_is_all_you_need</td>\n",
       "      <td>15</td>\n",
       "      <td>3</td>\n",
       "      <td>&lt;EOS&gt;\\n&lt;pad&gt;\\nInput-Input Layer5\\nThe\\nLaw\\nwi...</td>\n",
       "    </tr>\n",
       "    <tr>\n",
       "      <th>140</th>\n",
       "      <td>attention_is_all_you_need</td>\n",
       "      <td>15</td>\n",
       "      <td>4</td>\n",
       "      <td>&lt;EOS&gt;\\n&lt;pad&gt;\\nThe\\nLaw\\nwill\\nnever\\nbe\\nperfe...</td>\n",
       "    </tr>\n",
       "    <tr>\n",
       "      <th>141</th>\n",
       "      <td>attention_is_all_you_need</td>\n",
       "      <td>15</td>\n",
       "      <td>5</td>\n",
       "      <td>&lt;EOS&gt;\\n&lt;pad&gt;Figure 5: Many of the attention he...</td>\n",
       "    </tr>\n",
       "    <tr>\n",
       "      <th>142</th>\n",
       "      <td>attention_is_all_you_need</td>\n",
       "      <td>15</td>\n",
       "      <td>6</td>\n",
       "      <td>15</td>\n",
       "    </tr>\n",
       "  </tbody>\n",
       "</table>\n",
       "<p>143 rows × 4 columns</p>\n",
       "</div>"
      ],
      "text/plain": [
       "                     file_name  page_number  paragraph  \\\n",
       "0    attention_is_all_you_need            1          1   \n",
       "1    attention_is_all_you_need            1          2   \n",
       "2    attention_is_all_you_need            1          3   \n",
       "3    attention_is_all_you_need            1          4   \n",
       "4    attention_is_all_you_need            1          5   \n",
       "..                         ...          ...        ...   \n",
       "138  attention_is_all_you_need           15          2   \n",
       "139  attention_is_all_you_need           15          3   \n",
       "140  attention_is_all_you_need           15          4   \n",
       "141  attention_is_all_you_need           15          5   \n",
       "142  attention_is_all_you_need           15          6   \n",
       "\n",
       "                                                  text  \n",
       "0    Provided proper attribution is provided, Googl...  \n",
       "1    Attention Is All You Need\\nAshish Vaswani∗\\nGo...  \n",
       "2    ∗Equal contribution. Listing order is random. ...  \n",
       "3                †Work performed while at Google Brain  \n",
       "4             ‡Work performed while at Google Research  \n",
       "..                                                 ...  \n",
       "138  <EOS>\\n<pad>\\nThe\\nLaw\\nwill\\nnever\\nbe\\nperfe...  \n",
       "139  <EOS>\\n<pad>\\nInput-Input Layer5\\nThe\\nLaw\\nwi...  \n",
       "140  <EOS>\\n<pad>\\nThe\\nLaw\\nwill\\nnever\\nbe\\nperfe...  \n",
       "141  <EOS>\\n<pad>Figure 5: Many of the attention he...  \n",
       "142                                                 15  \n",
       "\n",
       "[143 rows x 4 columns]"
      ]
     },
     "execution_count": 29,
     "metadata": {},
     "output_type": "execute_result"
    }
   ],
   "source": [
    "df_filtered"
   ]
  },
  {
   "cell_type": "code",
   "execution_count": 30,
   "metadata": {},
   "outputs": [],
   "source": [
    "df_filtered.to_parquet(\"data/debug_read_pdf.parquet\", engine=\"pyarrow\")"
   ]
  },
  {
   "cell_type": "code",
   "execution_count": null,
   "metadata": {},
   "outputs": [],
   "source": []
  }
 ],
 "metadata": {
  "kernelspec": {
   "display_name": "kr_llm_rag_v2",
   "language": "python",
   "name": "kr_llm_rag_v2"
  },
  "language_info": {
   "codemirror_mode": {
    "name": "ipython",
    "version": 3
   },
   "file_extension": ".py",
   "mimetype": "text/x-python",
   "name": "python",
   "nbconvert_exporter": "python",
   "pygments_lexer": "ipython3",
   "version": "3.9.19"
  }
 },
 "nbformat": 4,
 "nbformat_minor": 2
}
